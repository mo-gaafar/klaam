{
  "cells": [
    {
      "cell_type": "markdown",
      "metadata": {
        "id": "2a4ADJpsCqDl"
      },
      "source": [
        "### Clone the library "
      ]
    },
    {
      "cell_type": "code",
      "execution_count": null,
      "metadata": {
        "id": "cZtc6-UWAoXw"
      },
      "outputs": [],
      "source": [
        "!git clone https://github.com/ARBML/klaam\n",
        "%cd klaam"
      ]
    },
    {
      "cell_type": "markdown",
      "metadata": {
        "id": "3VVt6RsLCtze"
      },
      "source": [
        "### Install dependencies "
      ]
    },
    {
      "cell_type": "code",
      "execution_count": null,
      "metadata": {
        "id": "FZQ3-QNw0c7C"
      },
      "outputs": [],
      "source": [
        "%%capture\n",
        "!pip install -r requirements.txt"
      ]
    },
    {
      "cell_type": "markdown",
      "metadata": {
        "id": "mWBDMxTqCzH0"
      },
      "source": [
        "### Record audio\n",
        "Only works on colab by giving premssions to record the audio from the browser"
      ]
    },
    {
      "cell_type": "code",
      "execution_count": 1,
      "metadata": {
        "id": "FGisa9H8Ceh7"
      },
      "outputs": [
        {
          "ename": "ModuleNotFoundError",
          "evalue": "No module named 'klaam'",
          "output_type": "error",
          "traceback": [
            "\u001b[0;31m---------------------------------------------------------------------------\u001b[0m",
            "\u001b[0;31mModuleNotFoundError\u001b[0m                       Traceback (most recent call last)",
            "Cell \u001b[0;32mIn[1], line 1\u001b[0m\n\u001b[0;32m----> 1\u001b[0m \u001b[39mfrom\u001b[39;00m \u001b[39mklaam\u001b[39;00m\u001b[39m.\u001b[39;00m\u001b[39mutils\u001b[39;00m\u001b[39m.\u001b[39;00m\u001b[39maudio\u001b[39;00m \u001b[39mimport\u001b[39;00m get_audio\n\u001b[1;32m      2\u001b[0m get_audio()\n",
            "\u001b[0;31mModuleNotFoundError\u001b[0m: No module named 'klaam'"
          ]
        }
      ],
      "source": [
        "from klaam.utils.audio import get_audio\n",
        "get_audio()"
      ]
    },
    {
      "cell_type": "markdown",
      "metadata": {
        "id": "pAKxQ2fNC1fG"
      },
      "source": [
        "### Try out classification model"
      ]
    },
    {
      "cell_type": "code",
      "execution_count": null,
      "metadata": {
        "id": "4nJcXcny0qrV"
      },
      "outputs": [],
      "source": [
        "from klaam import SpeechClassification\n",
        "model = SpeechClassification()\n",
        "model.classify('demo.wav')"
      ]
    },
    {
      "cell_type": "markdown",
      "metadata": {
        "id": "Q6L7o5TpC4Nd"
      },
      "source": [
        "### Try out recongition model"
      ]
    },
    {
      "cell_type": "code",
      "execution_count": null,
      "metadata": {
        "id": "OIGRS-PGCeh8"
      },
      "outputs": [],
      "source": [
        " from klaam import SpeechRecognition\n",
        " model = SpeechRecognition()\n",
        " model.transcribe('demo.wav')"
      ]
    }
  ],
  "metadata": {
    "accelerator": "GPU",
    "colab": {
      "collapsed_sections": [],
      "name": "Demo.ipynb",
      "provenance": []
    },
    "kernelspec": {
      "display_name": "Python 3",
      "language": "python",
      "name": "python3"
    },
    "language_info": {
      "codemirror_mode": {
        "name": "ipython",
        "version": 3
      },
      "file_extension": ".py",
      "mimetype": "text/x-python",
      "name": "python",
      "nbconvert_exporter": "python",
      "pygments_lexer": "ipython3",
      "version": "3.10.9"
    }
  },
  "nbformat": 4,
  "nbformat_minor": 0
}
